{
 "cells": [
  {
   "cell_type": "code",
   "execution_count": 16,
   "id": "c156f00e",
   "metadata": {},
   "outputs": [],
   "source": [
    "from finvizfinance.screener.overview import Overview"
   ]
  },
  {
   "cell_type": "code",
   "execution_count": 17,
   "id": "5e59563a",
   "metadata": {},
   "outputs": [],
   "source": [
    "# Initialize with a specific market (usa, canada, uk, etc.)\n",
    "ov = Overview()\n",
    "filters = {\n",
    "    'Index': 'S&P 500'  # Filter for Indian stocks\n",
    "}"
   ]
  },
  {
   "cell_type": "code",
   "execution_count": 18,
   "id": "3a44a32e",
   "metadata": {},
   "outputs": [
    {
     "name": "stdout",
     "output_type": "stream",
     "text": [
      "Found 503 stocksage [#############################-] 25/26 \n"
     ]
    }
   ],
   "source": [
    "ov.set_filter(filters_dict=filters)\n",
    "stocks = ov.screener_view()\n",
    "print(f\"Found {len(stocks)} stocks\")"
   ]
  },
  {
   "cell_type": "code",
   "execution_count": null,
   "id": "18644a41",
   "metadata": {},
   "outputs": [
    {
     "ename": "",
     "evalue": "",
     "output_type": "error",
     "traceback": [
      "\u001b[1;31mThe Kernel crashed while executing code in the current cell or a previous cell. \n",
      "\u001b[1;31mPlease review the code in the cell(s) to identify a possible cause of the failure. \n",
      "\u001b[1;31mClick <a href='https://aka.ms/vscodeJupyterKernelCrash'>here</a> for more info. \n",
      "\u001b[1;31mView Jupyter <a href='command:jupyter.viewOutput'>log</a> for further details."
     ]
    }
   ],
   "source": [
    "with open(\"500 tickers.txt\", \"w\") as f:\n",
    "    for stock in stocks[\"Ticker\"]:\n",
    "        f.write(stock)\n",
    "        f.write(\"\\n\")"
   ]
  }
 ],
 "metadata": {
  "kernelspec": {
   "display_name": "Python 3",
   "language": "python",
   "name": "python3"
  },
  "language_info": {
   "codemirror_mode": {
    "name": "ipython",
    "version": 3
   },
   "file_extension": ".py",
   "mimetype": "text/x-python",
   "name": "python",
   "nbconvert_exporter": "python",
   "pygments_lexer": "ipython3",
   "version": "3.12.10"
  }
 },
 "nbformat": 4,
 "nbformat_minor": 5
}
