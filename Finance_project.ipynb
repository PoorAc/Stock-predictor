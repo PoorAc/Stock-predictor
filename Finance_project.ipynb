{
 "cells": [
  {
   "cell_type": "code",
   "execution_count": 1,
   "id": "f8efa334",
   "metadata": {},
   "outputs": [],
   "source": [
    "#Importing Finviz API and neo4j drivers\n",
    "from finvizfinance.quote import finvizfinance\n",
    "from neo4j import GraphDatabase, RoutingControl"
   ]
  },
  {
   "cell_type": "code",
   "execution_count": 2,
   "id": "afd5ef3a",
   "metadata": {},
   "outputs": [],
   "source": [
    "#Setting data_driver as main neo4j driver\n",
    "data_driver = GraphDatabase.driver(\"neo4j://localhost:7687\", auth=(\"neo4j\", \"V3rYstr0ngp@sSw0rd\"))"
   ]
  },
  {
   "cell_type": "code",
   "execution_count": 3,
   "id": "75bca46c",
   "metadata": {},
   "outputs": [],
   "source": [
    "#Setting database name for validation and creation if needed\n",
    "database_name = \"fin-proj\""
   ]
  },
  {
   "cell_type": "code",
   "execution_count": 4,
   "id": "a13a1fbc",
   "metadata": {},
   "outputs": [],
   "source": [
    "#Function to check if given database exists\n",
    "def checkDatabase(db_name)->bool:\n",
    "    result = data_driver.execute_query(\n",
    "        \"SHOW DATABASES yield name\",\n",
    "        database_=\"neo4j\", routing_=RoutingControl.READ\n",
    "    )\n",
    "    for record in result.records:\n",
    "        if record[\"name\"] == db_name:\n",
    "            return True\n",
    "    \n",
    "    return False"
   ]
  },
  {
   "cell_type": "code",
   "execution_count": 5,
   "id": "4b64d163",
   "metadata": {},
   "outputs": [],
   "source": [
    "#Function to add a given database to the instancce\n",
    "def addDatabase(db_name):\n",
    "    data_driver.execute_query(\n",
    "        \"CREATE DATABASE $db_name\",\n",
    "        db_name = db_name,\n",
    "        database_=\"neo4j\",\n",
    "        routing_=RoutingControl.WRITE    \n",
    "    )"
   ]
  },
  {
   "cell_type": "code",
   "execution_count": 6,
   "id": "100e50cd",
   "metadata": {},
   "outputs": [],
   "source": [
    "#Function to add given stock's details to the database\n",
    "def addStock(db_name, stock_data):    \n",
    "    #Formatting stock into readable key-value pairs in cypher\n",
    "    stock_properties = \", \".join([f\"`{key}` : $`{key}`\" for key in stock_data.keys()])\n",
    "    \n",
    "    #Casting the data into a cypher query to add to the database\n",
    "    add_query = f\"CREATE (:stock {{{stock_properties}}})\"\n",
    "    \n",
    "    #Executing the query to add stock details to the database\n",
    "    data_driver.execute_query(add_query, stock_data, database_=db_name, routing_=RoutingControl.WRITE)"
   ]
  },
  {
   "cell_type": "code",
   "execution_count": 7,
   "id": "ee1de8fb",
   "metadata": {},
   "outputs": [],
   "source": [
    "#Checking if stock is in database\n",
    "def checkStock(db_name, ticker):\n",
    "    #Storing result in res\n",
    "    res, _, _ = data_driver.execute_query(\n",
    "        \"MATCH (n:stock {Ticker : $tick})\"\n",
    "        \"RETURN n\",\n",
    "        tick=ticker,\n",
    "        database_=db_name,\n",
    "        routing_=RoutingControl.READ\n",
    "    )\n",
    "    \n",
    "    if len(res):\n",
    "        return True\n",
    "    else:\n",
    "        return False"
   ]
  },
  {
   "cell_type": "code",
   "execution_count": 8,
   "id": "46844041",
   "metadata": {},
   "outputs": [],
   "source": [
    "#Converting Stock Ticker.txt into readable strings and adding to the database\n",
    "def fileAdd(db_name, file_path):\n",
    "    #Reading from given file for stock tickers\n",
    "    f = open(file_path, \"r\")\n",
    "    \n",
    "    #Iterating through stock tickers in the file\n",
    "    for stock in f:\n",
    "        #Checking if stock already exists in the database\n",
    "        if checkStock(db_name, stock[:-1]):\n",
    "            continue\n",
    "        \n",
    "        #Adding the stock fundament to stock_data\n",
    "        stock_data = finvizfinance(stock[:-1]).ticker_fundament()\n",
    "        #Adding the ticker to stock_data\n",
    "        stock_data['Ticker'] = stock[:-1]\n",
    "        \n",
    "        #Calling the function to execute the query to add the stock to the database\n",
    "        addStock(db_name, stock_data)\n",
    "        \n",
    "    f.close()"
   ]
  },
  {
   "cell_type": "code",
   "execution_count": 9,
   "id": "6278544d",
   "metadata": {},
   "outputs": [],
   "source": [
    "def main():\n",
    "    if not checkDatabase(database_name):\n",
    "        addDatabase(database_name)\n",
    "    \n",
    "    fileAdd(database_name, \"Stock tickers.txt\")"
   ]
  },
  {
   "cell_type": "code",
   "execution_count": null,
   "id": "40b8e2cf",
   "metadata": {},
   "outputs": [
    {
     "name": "stderr",
     "output_type": "stream",
     "text": [
      "Received notification from DBMS server: {severity: WARNING} {code: Neo.ClientNotification.Statement.UnknownPropertyKeyWarning} {category: UNRECOGNIZED} {title: The provided property key is not in the database} {description: One of the property names in your query is not available in the database, make sure you didn't misspell it or that the label is available when you run this statement in your application (the missing property name is: Ticker)} {position: line: 1, column: 17, offset: 16} for query: 'MATCH (n:stock {Ticker : $tick})RETURN n'\n",
      "Received notification from DBMS server: {severity: WARNING} {code: Neo.ClientNotification.Statement.UnknownLabelWarning} {category: UNRECOGNIZED} {title: The provided label is not in the database.} {description: One of the labels in your query is not available in the database, make sure you didn't misspell it or that the label is available when you run this statement in your application (the missing label name is: stock)} {position: line: 1, column: 10, offset: 9} for query: 'MATCH (n:stock {Ticker : $tick})RETURN n'\n"
     ]
    },
    {
     "ename": "",
     "evalue": "",
     "output_type": "error",
     "traceback": [
      "\u001b[1;31mThe Kernel crashed while executing code in the current cell or a previous cell. \n",
      "\u001b[1;31mPlease review the code in the cell(s) to identify a possible cause of the failure. \n",
      "\u001b[1;31mClick <a href='https://aka.ms/vscodeJupyterKernelCrash'>here</a> for more info. \n",
      "\u001b[1;31mView Jupyter <a href='command:jupyter.viewOutput'>log</a> for further details."
     ]
    }
   ],
   "source": [
    "main()"
   ]
  }
 ],
 "metadata": {
  "kernelspec": {
   "display_name": "Python 3",
   "language": "python",
   "name": "python3"
  },
  "language_info": {
   "codemirror_mode": {
    "name": "ipython",
    "version": 3
   },
   "file_extension": ".py",
   "mimetype": "text/x-python",
   "name": "python",
   "nbconvert_exporter": "python",
   "pygments_lexer": "ipython3",
   "version": "3.12.10"
  }
 },
 "nbformat": 4,
 "nbformat_minor": 5
}
