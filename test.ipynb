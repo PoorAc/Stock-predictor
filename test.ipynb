{
 "cells": [
  {
   "cell_type": "code",
   "execution_count": null,
   "id": "0b896417",
   "metadata": {},
   "outputs": [],
   "source": [
    "# Importing finviz API\n",
    "from finvizfinance.quote import finvizfinance\n",
    "# Importing neo4j drivers\n",
    "# Graphdatabase to run driver\n",
    "# Routing control to decide read/write operations\n",
    "from neo4j import GraphDatabase, RoutingControl\n",
    "#Importing warnings to ignore and de-clutter the output\n",
    "import warnings\n",
    "warnings.filterwarnings('ignore')\n",
    "\n",
    "# Initialising URI, Authorisation and driver to connect to neo4j session through python\n",
    "URI = \"neo4j://127.0.0.1:7687\"\n",
    "AUTH = (\"neo4j\", \"V3rYstr0ngp@sSw0rd\")\n",
    "driver = GraphDatabase.driver(auth=AUTH, uri=URI, notifications_min_severity=\"OFF\")"
   ]
  },
  {
   "cell_type": "code",
   "execution_count": null,
   "id": "ed7a21cb",
   "metadata": {},
   "outputs": [],
   "source": [
    "# Getting stock of Tesla into stock data item\n",
    "stock = finvizfinance('tsla')\n",
    "# Getting stock data into tesla_fundament\n",
    "tesla_fundament = stock.ticker_fundament()\n",
    "tesla_fundament"
   ]
  },
  {
   "cell_type": "code",
   "execution_count": null,
   "id": "57880f81",
   "metadata": {},
   "outputs": [],
   "source": [
    "# Alternate method to get stock data\n",
    "tesla_fundament = finvizfinance('tsla').ticker_fundament()\n",
    "tesla_fundament"
   ]
  },
  {
   "cell_type": "code",
   "execution_count": null,
   "id": "0ce62265",
   "metadata": {},
   "outputs": [],
   "source": [
    "# Experimental code written to get company names\n",
    "# f = open(\"Stock tickers.txt\", \"r\")\n",
    "\n",
    "# names = []\n",
    "\n",
    "# for x in f:\n",
    "#     stock_data = finvizfinance(x[:-1]).ticker_fundament()\n",
    "#     names.append(stock_data[\"Company\"])"
   ]
  },
  {
   "cell_type": "code",
   "execution_count": null,
   "id": "1bbc5547",
   "metadata": {},
   "outputs": [],
   "source": [
    "# Experimnetal code written to add tickers due to a previous oversight\n",
    "# f = open(\"500 tickers.txt\", \"r\")\n",
    "\n",
    "# i = 0\n",
    "\n",
    "# for x in f:\n",
    "#     string = str(x[:-1])\n",
    "#     addTicker(names[i], string)\n",
    "#     i += 1\n",
    "    \n",
    "# f.close()"
   ]
  },
  {
   "cell_type": "code",
   "execution_count": null,
   "id": "dcdf8c18",
   "metadata": {},
   "outputs": [],
   "source": [
    "# Function to add ticker to node given company name (no longer needed)\n",
    "# def addTicker(company_name, ticker):\n",
    "#     with GraphDatabase.driver(auth=AUTH, uri=URI) as driver:\n",
    "#         driver.execute_query(\n",
    "#         \"MATCH (n:stock {Company : $company})\"\n",
    "#         \"SET n.Ticker = $ticker\",\n",
    "#         company = company_name,\n",
    "#         ticker = ticker,\n",
    "#         database_=\"fin-proj\",\n",
    "#         routing_=RoutingControl.WRITE\n",
    "#     )"
   ]
  },
  {
   "cell_type": "code",
   "execution_count": null,
   "id": "2c809f77",
   "metadata": {},
   "outputs": [],
   "source": [
    "def addDatabase(database):\n",
    "    # Test query to return databases\n",
    "    result = driver.execute_query(\n",
    "            \"show databases yield name\",\n",
    "            database_=\"neo4j\", routing_=RoutingControl.READ\n",
    "            )\n",
    "        \n",
    "    # Test code to check if specified database exists in database list\n",
    "    flag = False\n",
    "    for record in result.records:\n",
    "        if record[\"name\"] == database:\n",
    "            flag = True\n",
    "        \n",
    "    if(flag):\n",
    "        print(f\"Databse {database} already exists\")\n",
    "    else:\n",
    "        # Query to create database\n",
    "        driver.execute_query(\n",
    "            \"create database $database\",\n",
    "            database=database,\n",
    "            database_=\"neo4j\", routing_=RoutingControl.WRITE\n",
    "        )\n",
    "        print(\"Added database:\", database)"
   ]
  },
  {
   "cell_type": "code",
   "execution_count": null,
   "id": "9f8885cc",
   "metadata": {},
   "outputs": [],
   "source": [
    "def addStock(stock_fundament: dict, database: str):\n",
    "    # Formatting stock_fundament to input as query into neo4j\n",
    "    properties = \", \".join([f\"`{key}` : $`{key}`\" for key in stock_fundament.keys()])\n",
    "    # Creating query data item as string to pass into driver query\n",
    "    query = f\"CREATE (:stock {{{properties}}})\"\n",
    "\n",
    "    # Adding stock data to database\n",
    "    driver.execute_query(query, stock_fundament, database_=database, routing_=RoutingControl.WRITE)\n",
    "    "
   ]
  },
  {
   "cell_type": "code",
   "execution_count": null,
   "id": "f9102ddc",
   "metadata": {},
   "outputs": [],
   "source": [
    "# Adds the ticker to stock fundament since ticker is not \n",
    "# in the fundament by default\n",
    "def fundament_modifier(stock_ticker: str) -> dict:\n",
    "    stock_fundament = finvizfinance(stock_ticker).ticker_fundament()\n",
    "    stock_fundament[\"Ticker\"] = stock_ticker\n",
    "    return stock_fundament"
   ]
  },
  {
   "cell_type": "code",
   "execution_count": null,
   "id": "521da544",
   "metadata": {},
   "outputs": [],
   "source": [
    "# Building the database using given file\n",
    "# File contains tickers of all stocks to be added to the database\n",
    "def buildDatabase(ticker_file: str, database: str):\n",
    "    f = open(ticker_file, \"r\")\n",
    "    \n",
    "    for x in f:\n",
    "        # Getting ticker\n",
    "        ticker = str(x[:-1])\n",
    "        \n",
    "        # Checking if stock already in the database\n",
    "        res, _, __ = driver.execute_query(\n",
    "            \"MATCH (n:stock {Ticker: $Ticker}) \"\n",
    "            \"RETURN n \",\n",
    "            Ticker=ticker,\n",
    "            database_=database,\n",
    "            routing_=RoutingControl.READ\n",
    "        )\n",
    "        \n",
    "        # If stock in databse, we do not add it\n",
    "        if res:\n",
    "            print(f\"Stock {ticker} already exists\")\n",
    "            continue\n",
    "        \n",
    "        # Adding the stock\n",
    "        addStock(fundament_modifier(str(x[:-1])), database)\n",
    "        print(\"Added stock:\", ticker)"
   ]
  },
  {
   "cell_type": "code",
   "execution_count": 11,
   "id": "6ca45929",
   "metadata": {},
   "outputs": [],
   "source": [
    "def getData(Company: str):\n",
    "    #Getting stock data into new_res to use as data\n",
    "    new_res, _, _ = driver.execute_query(\n",
    "        \"match (n: stock {Company : $Company})\"\n",
    "        \"return n\",\n",
    "        Company = Company,\n",
    "        database_=\"experimental\",\n",
    "        routing_=RoutingControl.READ\n",
    "    )"
   ]
  },
  {
   "cell_type": "code",
   "execution_count": 12,
   "id": "1ce883de",
   "metadata": {},
   "outputs": [],
   "source": [
    "# Older version of createSectors() function for linking stocks of same sector\n",
    "# New version has been split into creating sectors, then linking stocks to the sector\n",
    "# def createSectors():\n",
    "#     #Creating a relationship between all stocks that have the same sector\n",
    "#     with GraphDatabase.driver(auth=AUTH, uri=URI) as driver:\n",
    "#         driver.execute_query(\n",
    "#             \"MATCH (u1:stock), (u2:stock) \"\n",
    "#             \"WHERE u1.Sector = u2.Sector AND elementId(u1) < elementId(u2) \"\n",
    "#             \"CREATE (u1)-[:same_sector]->(u2) \",\n",
    "#             database_=\"experimental\",\n",
    "#             routing_=RoutingControl.WRITE        \n",
    "#         )"
   ]
  },
  {
   "cell_type": "code",
   "execution_count": null,
   "id": "7c9fad9c",
   "metadata": {},
   "outputs": [],
   "source": [
    "# Function to create sector nodes in the database based\n",
    "# on all distinct sectors of available stock information\n",
    "def createSectors(database: str):\n",
    "    # Getting all distinct sectors\n",
    "    result, _, __ = driver.execute_query(\n",
    "        \"MATCH (n:stock) \"\n",
    "        \"RETURN DISTINCT n.Sector as Sectors \",\n",
    "        database_=database,\n",
    "        routing_=RoutingControl.READ\n",
    "    )\n",
    "\n",
    "    for x in result:\n",
    "        sector = x[\"Sectors\"]\n",
    "        \n",
    "        # Checking if current sector is already in our database\n",
    "        res, _, __ = driver.execute_query(\n",
    "            \"MATCH (n:sector {name:$name}) \"\n",
    "            \"RETURN n as name \",\n",
    "            name=sector,\n",
    "            database_=database,\n",
    "            routing_=RoutingControl.READ\n",
    "        )\n",
    "        \n",
    "        if res:\n",
    "            print(f\"Sector {sector} is already in the database\")\n",
    "            continue\n",
    "        \n",
    "        # Adding the sector node to the database\n",
    "        driver.execute_query(\n",
    "            \"CREATE (:sector {name:$name}) \",\n",
    "            name=sector,\n",
    "            database_=database,\n",
    "            routing_=RoutingControl.WRITE\n",
    "        )\n",
    "        print(\"Added sector:\", sector)"
   ]
  },
  {
   "cell_type": "code",
   "execution_count": null,
   "id": "fd706d4b",
   "metadata": {},
   "outputs": [],
   "source": [
    "# Creating relationships from stocks in a particular sector\n",
    "# to corresponding sector node if the relationship does not exist already\n",
    "def joinSector(sector: str, database: str):\n",
    "    driver.execute_query(\n",
    "        \"MATCH (sec:sector) \"\n",
    "        \"WHERE sec.name = $sector \"\n",
    "        \"MATCH (stk:stock) \"\n",
    "        \"WHERE stk.Sector = $sector \"\n",
    "        \"MERGE (stk)-[:in_sector]->(sec) \",\n",
    "        sector=sector,\n",
    "        database_=database,\n",
    "        routing_=RoutingControl.WRITE\n",
    "    )\n",
    "    print(\"Joined all stocks to sector:\", sector)"
   ]
  },
  {
   "cell_type": "code",
   "execution_count": null,
   "id": "0755f73a",
   "metadata": {},
   "outputs": [],
   "source": [
    "# Function to find all distinct sectors of stocks in the database\n",
    "# and join all stocks of one sector to that sector\n",
    "def joinAllSectors(database: str):\n",
    "    # Getting all distinct sectors\n",
    "    names, _, __ = driver.execute_query(\n",
    "        \"MATCH (s:sector) \"\n",
    "        \"RETURN s.name as Names \",\n",
    "        database_=database,\n",
    "        routing_=RoutingControl.READ\n",
    "    )\n",
    "    \n",
    "    for temp in names:\n",
    "        sector = temp[\"Names\"]\n",
    "        # Joining all stocks of each sector\n",
    "        joinSector(sector, database)"
   ]
  },
  {
   "cell_type": "code",
   "execution_count": 19,
   "id": "a7930d92",
   "metadata": {},
   "outputs": [
    {
     "name": "stdout",
     "output_type": "stream",
     "text": [
      "Joined all stocks to sector: Energy\n",
      "Joined all stocks to sector: Financial\n",
      "Joined all stocks to sector: Utilities\n",
      "Joined all stocks to sector: Real Estate\n",
      "Joined all stocks to sector: Industrials\n",
      "Joined all stocks to sector: Healthcare\n",
      "Joined all stocks to sector: Consumer Cyclical\n",
      "Joined all stocks to sector: Basic Materials\n",
      "Joined all stocks to sector: Technology\n",
      "Joined all stocks to sector: Communication Services\n",
      "Joined all stocks to sector: Consumer Defensive\n"
     ]
    }
   ],
   "source": [
    "if __name__ == \"__main__\":\n",
    "    # Function to build the database using S&P 500 tickers at 2:30 AM IST on 28-09-25\n",
    "    # buildDatabase(\"500 tickers.txt\", \"experimental\")\n",
    "    # createSectors(\"experimental\")\n",
    "    joinAllSectors(\"experimental\")"
   ]
  }
 ],
 "metadata": {
  "kernelspec": {
   "display_name": "Python 3",
   "language": "python",
   "name": "python3"
  },
  "language_info": {
   "codemirror_mode": {
    "name": "ipython",
    "version": 3
   },
   "file_extension": ".py",
   "mimetype": "text/x-python",
   "name": "python",
   "nbconvert_exporter": "python",
   "pygments_lexer": "ipython3",
   "version": "3.13.7"
  }
 },
 "nbformat": 4,
 "nbformat_minor": 5
}
